{
 "cells": [
  {
   "cell_type": "markdown",
   "metadata": {},
   "source": [
    "# CS 583 Section B Assignment 4"
   ]
  },
  {
   "cell_type": "markdown",
   "metadata": {},
   "source": [
    "Task Description:\n",
    "\n",
    "Given a sentence, predict if the sentence is a question or not\n",
    "\n",
    "There are two steps: 1) detect a question and 2) detect the type of the question. We\n",
    "provide the code for step1, and require you to finish step 2."
   ]
  },
  {
   "cell_type": "markdown",
   "metadata": {},
   "source": [
    "By \n",
    "\n",
    "- Aditya Nittala(10466689)\n",
    "- Govinda Tanikella(10448181)"
   ]
  },
  {
   "cell_type": "code",
   "execution_count": null,
   "metadata": {
    "id": "FeBHCMpUcD1R"
   },
   "outputs": [],
   "source": [
    "!pip install pycorenlp"
   ]
  },
  {
   "cell_type": "code",
   "execution_count": 55,
   "metadata": {
    "colab": {
     "base_uri": "https://localhost:8080/"
    },
    "id": "I7PXzZeeMbEc",
    "outputId": "f10c5992-f0ff-4cd5-f2b4-4ec46354155f"
   },
   "outputs": [
    {
     "name": "stdout",
     "output_type": "stream",
     "text": [
      "Accuracy of the Mutlinomial Naive Bayes is:  75.42087542087542\n",
      "Accuracy of the SVM classifer is:  93.60269360269359\n",
      "The improved accuracy for MNB is:  90.57239057239057\n",
      "The improved SVM accuracy is:  96.63299663299664\n"
     ]
    }
   ],
   "source": [
    "#import pandas as pandas\n",
    "from pycorenlp import StanfordCoreNLP\n",
    "from sklearn.feature_extraction.text import TfidfVectorizer,CountVectorizer\n",
    "from sklearn.model_selection import train_test_split\n",
    "from sklearn.multiclass import OutputCodeClassifier\n",
    "from sklearn.naive_bayes import MultinomialNB\n",
    "from sklearn import svm\n",
    "class_to_int = {'what': 0, 'affirmation': 1, 'unknown': 2, 'who': 3, 'when': 4}\n",
    "class isQuestionBasic():\n",
    "\n",
    "    #Init Constructur\n",
    "    #Initialize stanford core nlp local instance on port 9000\n",
    "    def __init__(self):\n",
    "        self.nlp = StanfordCoreNLP(\"http://localhost:9000\")\n",
    "\n",
    "    def isQuestion(self, sentence):\n",
    "        if '?' in sentence:\n",
    "            return 1\n",
    "        output = self.nlp.annotate(sentence, properties={\n",
    "            'annotators': 'parse',\n",
    "            'outputFormat': 'json',\n",
    "            'timeout': 1000\n",
    "        })\n",
    "\n",
    "        if('SQ' or 'SBARQ') in output['sentences'][0][\"parse\"]:\n",
    "            return 1\n",
    "        else:\n",
    "            return 0\n",
    "\n",
    "\n",
    "\n",
    "    def parse_and_train_test_split(self):\n",
    "        with open(\"sample.txt\") as f:\n",
    "            contents = f.read()\n",
    "            contents = contents.split(\"\\n\")[:-1]\n",
    "            texts = [x.split(\",,,\")[0].strip() for x in contents]\n",
    "            labels = [class_to_int[x.split(\",,,\")[1].strip()] for x in contents]\n",
    "            X_train, X_test, y_train, y_test = train_test_split(texts, labels, test_size=0.2)\n",
    "            return X_train, X_test, y_train, y_test\n",
    "\n",
    "    def MVNVClassifier(self):\n",
    "        X_train, X_test, y_train, y_test = self.parse_and_train_test_split()\n",
    "        cv = TfidfVectorizer(min_df=1)\n",
    "        X_train = cv.fit_transform(X_train)\n",
    "        X_test = cv.transform(X_test)\n",
    "        mnb = MultinomialNB()\n",
    "        mnb.fit(X_train, y_train)\n",
    "        score = mnb.score(X_test, y_test)\n",
    "        return score\n",
    "    def SVMClassifier(self):\n",
    "        X_train, X_test, y_train, y_test = self.parse_and_train_test_split()\n",
    "        cv = TfidfVectorizer(min_df=1)\n",
    "        X_train = cv.fit_transform(X_train)\n",
    "        X_test = cv.transform(X_test)\n",
    "        svmc = svm.SVC()\n",
    "        svmc.fit(X_train, y_train)\n",
    "        score = svmc.score(X_test, y_test)\n",
    "        return score\n",
    "    def Modified_SVM(self):\n",
    "        X_train, X_test, y_train, y_test = self.parse_and_train_test_split()\n",
    "        cv = CountVectorizer(min_df=1)\n",
    "        X_train = cv.fit_transform(X_train)\n",
    "        X_test = cv.transform(X_test)\n",
    "        svmc = svm.SVC(kernel='sigmoid')\n",
    "        svmc.fit(X_train, y_train)\n",
    "        score = svmc.score(X_test, y_test)\n",
    "        return score\n",
    "    def Modified_NB(self):\n",
    "      #Implementing Improved Multinomial NB\n",
    "      X_train, X_test, y_train, y_test = self.parse_and_train_test_split()\n",
    "      cv = CountVectorizer(min_df=1)\n",
    "      X_train = cv.fit_transform(X_train)\n",
    "      X_test = cv.transform(X_test)\n",
    "      clf = OutputCodeClassifier(estimator=MultinomialNB(),code_size=2)\n",
    "      clf.fit(X_train, y_train)\n",
    "      score = clf.score(X_test, y_test)\n",
    "      return score\n",
    "\n",
    "\n",
    "if __name__=='__main__':\n",
    "  BQ = isQuestionBasic()\n",
    "  MNNBClassifer = BQ.MVNVClassifier()\n",
    "  SVMC = BQ.SVMClassifier()\n",
    "  print(\"Accuracy of the Mutlinomial Naive Bayes is: \", MNNBClassifer*100)\n",
    "  print(\"Accuracy of the SVM classifer is: \",SVMC*100)\n",
    "  Mod_SVM = BQ.Modified_SVM()\n",
    "  Modified_NB = BQ.Modified_NB()\n",
    "  print(\"The improved accuracy for MNB is: \", Modified_NB*100)\n",
    "  print(\"The improved SVM accuracy is: \",Mod_SVM*100)\n"
   ]
  }
 ],
 "metadata": {
  "colab": {
   "name": "CS 583 Assignment 4",
   "provenance": []
  },
  "kernelspec": {
   "display_name": "Python 3",
   "language": "python",
   "name": "python3"
  },
  "language_info": {
   "codemirror_mode": {
    "name": "ipython",
    "version": 3
   },
   "file_extension": ".py",
   "mimetype": "text/x-python",
   "name": "python",
   "nbconvert_exporter": "python",
   "pygments_lexer": "ipython3",
   "version": "3.8.5"
  }
 },
 "nbformat": 4,
 "nbformat_minor": 1
}
